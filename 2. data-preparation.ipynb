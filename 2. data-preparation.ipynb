{
 "cells": [
  {
   "cell_type": "markdown",
   "metadata": {},
   "source": [
    "# Data Loading"
   ]
  },
  {
   "cell_type": "code",
   "execution_count": 24,
   "metadata": {},
   "outputs": [],
   "source": [
    "import pandas as pd\n",
    "\n",
    "# Loading Data\n",
    "churn_data = pd.read_csv(\"ChurnData.csv\")\n",
    "\n",
    "# Drop columns that will not be useful during training\n",
    "churn_data.drop([\"RowNumber\", \"CustomerId\", \"Surname\"], axis=1, inplace=True)"
   ]
  },
  {
   "cell_type": "markdown",
   "metadata": {},
   "source": [
    "# Stratified Sampling"
   ]
  },
  {
   "cell_type": "code",
   "execution_count": 25,
   "metadata": {},
   "outputs": [],
   "source": [
    "from sklearn.model_selection import StratifiedShuffleSplit\n",
    "\n",
    "split = StratifiedShuffleSplit(n_splits=1, test_size=0.2, random_state=42)\n",
    "for train_index, test_index in split.split(churn_data, churn_data[\"Geography\"]):\n",
    "    strat_train_set = churn_data.loc[train_index]\n",
    "    strat_test_set = churn_data.loc[test_index]"
   ]
  },
  {
   "cell_type": "code",
   "execution_count": 26,
   "metadata": {},
   "outputs": [
    {
     "data": {
      "text/plain": [
       "France     0.501375\n",
       "Germany    0.250875\n",
       "Spain      0.247750\n",
       "Name: Geography, dtype: float64"
      ]
     },
     "execution_count": 26,
     "metadata": {},
     "output_type": "execute_result"
    }
   ],
   "source": [
    "strat_train_set[\"Geography\"].value_counts() / len(strat_train_set)"
   ]
  },
  {
   "cell_type": "code",
   "execution_count": 27,
   "metadata": {},
   "outputs": [
    {
     "data": {
      "text/plain": [
       "France     0.5015\n",
       "Germany    0.2510\n",
       "Spain      0.2475\n",
       "Name: Geography, dtype: float64"
      ]
     },
     "execution_count": 27,
     "metadata": {},
     "output_type": "execute_result"
    }
   ],
   "source": [
    "strat_test_set[\"Geography\"].value_counts() / len(strat_test_set)"
   ]
  },
  {
   "cell_type": "code",
   "execution_count": 28,
   "metadata": {},
   "outputs": [],
   "source": [
    "# Store train-test split to csv\n",
    "strat_train_set.to_csv(\"strat_train_set.csv\")\n",
    "strat_test_set.to_csv(\"strat_test_set.csv\")"
   ]
  },
  {
   "cell_type": "markdown",
   "metadata": {},
   "source": [
    "# Data Preparation"
   ]
  },
  {
   "cell_type": "code",
   "execution_count": 29,
   "metadata": {},
   "outputs": [],
   "source": [
    "churn_train_data = strat_train_set.drop(\"Exited\", axis=1)\n",
    "churn_train_data_labels = strat_train_set[\"Exited\"].copy()\n",
    "\n",
    "churn_test_data = strat_test_set.drop(\"Exited\", axis=1)\n",
    "churn_test_data_labels = strat_test_set[\"Exited\"].copy()"
   ]
  },
  {
   "cell_type": "markdown",
   "metadata": {},
   "source": [
    "# Transformation Pipeline"
   ]
  },
  {
   "cell_type": "code",
   "execution_count": 30,
   "metadata": {},
   "outputs": [
    {
     "data": {
      "text/html": [
       "<div>\n",
       "<style scoped>\n",
       "    .dataframe tbody tr th:only-of-type {\n",
       "        vertical-align: middle;\n",
       "    }\n",
       "\n",
       "    .dataframe tbody tr th {\n",
       "        vertical-align: top;\n",
       "    }\n",
       "\n",
       "    .dataframe thead th {\n",
       "        text-align: right;\n",
       "    }\n",
       "</style>\n",
       "<table border=\"1\" class=\"dataframe\">\n",
       "  <thead>\n",
       "    <tr style=\"text-align: right;\">\n",
       "      <th></th>\n",
       "      <th>0</th>\n",
       "      <th>1</th>\n",
       "      <th>2</th>\n",
       "      <th>3</th>\n",
       "      <th>4</th>\n",
       "      <th>5</th>\n",
       "      <th>6</th>\n",
       "      <th>7</th>\n",
       "      <th>8</th>\n",
       "      <th>9</th>\n",
       "      <th>10</th>\n",
       "      <th>11</th>\n",
       "      <th>12</th>\n",
       "      <th>13</th>\n",
       "    </tr>\n",
       "  </thead>\n",
       "  <tbody>\n",
       "    <tr>\n",
       "      <th>0</th>\n",
       "      <td>0.988298</td>\n",
       "      <td>-0.950006</td>\n",
       "      <td>0.685885</td>\n",
       "      <td>-1.240112</td>\n",
       "      <td>0.804769</td>\n",
       "      <td>0.643372</td>\n",
       "      <td>0.965833</td>\n",
       "      <td>0.003099</td>\n",
       "      <td>0.0</td>\n",
       "      <td>1.0</td>\n",
       "      <td>0.0</td>\n",
       "      <td>1.0</td>\n",
       "      <td>0.0</td>\n",
       "      <td>0.0</td>\n",
       "    </tr>\n",
       "    <tr>\n",
       "      <th>1</th>\n",
       "      <td>0.097887</td>\n",
       "      <td>-1.806886</td>\n",
       "      <td>1.032598</td>\n",
       "      <td>-1.240112</td>\n",
       "      <td>-0.906140</td>\n",
       "      <td>0.643372</td>\n",
       "      <td>-1.035375</td>\n",
       "      <td>-0.021787</td>\n",
       "      <td>0.0</td>\n",
       "      <td>1.0</td>\n",
       "      <td>0.0</td>\n",
       "      <td>0.0</td>\n",
       "      <td>0.0</td>\n",
       "      <td>1.0</td>\n",
       "    </tr>\n",
       "    <tr>\n",
       "      <th>2</th>\n",
       "      <td>0.874408</td>\n",
       "      <td>2.287096</td>\n",
       "      <td>1.726025</td>\n",
       "      <td>-1.240112</td>\n",
       "      <td>0.804769</td>\n",
       "      <td>-1.554311</td>\n",
       "      <td>0.965833</td>\n",
       "      <td>-0.108617</td>\n",
       "      <td>1.0</td>\n",
       "      <td>0.0</td>\n",
       "      <td>0.0</td>\n",
       "      <td>1.0</td>\n",
       "      <td>0.0</td>\n",
       "      <td>0.0</td>\n",
       "    </tr>\n",
       "    <tr>\n",
       "      <th>3</th>\n",
       "      <td>0.253191</td>\n",
       "      <td>-0.950006</td>\n",
       "      <td>0.685885</td>\n",
       "      <td>0.878347</td>\n",
       "      <td>-0.906140</td>\n",
       "      <td>-1.554311</td>\n",
       "      <td>-1.035375</td>\n",
       "      <td>0.040728</td>\n",
       "      <td>0.0</td>\n",
       "      <td>1.0</td>\n",
       "      <td>0.0</td>\n",
       "      <td>1.0</td>\n",
       "      <td>0.0</td>\n",
       "      <td>0.0</td>\n",
       "    </tr>\n",
       "    <tr>\n",
       "      <th>4</th>\n",
       "      <td>-2.097079</td>\n",
       "      <td>1.239798</td>\n",
       "      <td>0.339172</td>\n",
       "      <td>-1.240112</td>\n",
       "      <td>0.804769</td>\n",
       "      <td>-1.554311</td>\n",
       "      <td>0.965833</td>\n",
       "      <td>-0.029546</td>\n",
       "      <td>0.0</td>\n",
       "      <td>1.0</td>\n",
       "      <td>0.0</td>\n",
       "      <td>1.0</td>\n",
       "      <td>0.0</td>\n",
       "      <td>0.0</td>\n",
       "    </tr>\n",
       "  </tbody>\n",
       "</table>\n",
       "</div>"
      ],
      "text/plain": [
       "         0         1         2         3         4         5         6   \\\n",
       "0  0.988298 -0.950006  0.685885 -1.240112  0.804769  0.643372  0.965833   \n",
       "1  0.097887 -1.806886  1.032598 -1.240112 -0.906140  0.643372 -1.035375   \n",
       "2  0.874408  2.287096  1.726025 -1.240112  0.804769 -1.554311  0.965833   \n",
       "3  0.253191 -0.950006  0.685885  0.878347 -0.906140 -1.554311 -1.035375   \n",
       "4 -2.097079  1.239798  0.339172 -1.240112  0.804769 -1.554311  0.965833   \n",
       "\n",
       "         7    8    9    10   11   12   13  \n",
       "0  0.003099  0.0  1.0  0.0  1.0  0.0  0.0  \n",
       "1 -0.021787  0.0  1.0  0.0  0.0  0.0  1.0  \n",
       "2 -0.108617  1.0  0.0  0.0  1.0  0.0  0.0  \n",
       "3  0.040728  0.0  1.0  0.0  1.0  0.0  0.0  \n",
       "4 -0.029546  0.0  1.0  0.0  1.0  0.0  0.0  "
      ]
     },
     "execution_count": 30,
     "metadata": {},
     "output_type": "execute_result"
    }
   ],
   "source": [
    "from sklearn.pipeline import Pipeline\n",
    "from sklearn.impute import SimpleImputer\n",
    "from sklearn.preprocessing import StandardScaler\n",
    "from sklearn.compose import ColumnTransformer\n",
    "from sklearn.preprocessing import OneHotEncoder\n",
    "\n",
    "# Transformation Pipeline\n",
    "\n",
    "num_pipeline = Pipeline([\n",
    "    ('imputer', SimpleImputer(strategy=\"median\")), # EstimatedSalary missing data handling\n",
    "    ('std_scaler', StandardScaler())\n",
    "])\n",
    "\n",
    "num_attribs = ['CreditScore', 'Age', 'Tenure', 'Balance', 'NumOfProducts', 'HasCrCard', 'IsActiveMember', 'EstimatedSalary']\n",
    "cat_attribs = [\"Gender\", \"Geography\"]\n",
    "\n",
    "full_pipeline = ColumnTransformer([\n",
    "    (\"num\", num_pipeline, num_attribs),\n",
    "    (\"cat\", OneHotEncoder(), cat_attribs) # Handles Gender missing values\n",
    "])\n",
    "\n",
    "churn_training_data_preprocessed = full_pipeline.fit_transform(churn_train_data)\n",
    "pd.DataFrame(churn_training_data_preprocessed).head()"
   ]
  },
  {
   "cell_type": "code",
   "execution_count": 31,
   "metadata": {},
   "outputs": [
    {
     "data": {
      "text/html": [
       "<div>\n",
       "<style scoped>\n",
       "    .dataframe tbody tr th:only-of-type {\n",
       "        vertical-align: middle;\n",
       "    }\n",
       "\n",
       "    .dataframe tbody tr th {\n",
       "        vertical-align: top;\n",
       "    }\n",
       "\n",
       "    .dataframe thead th {\n",
       "        text-align: right;\n",
       "    }\n",
       "</style>\n",
       "<table border=\"1\" class=\"dataframe\">\n",
       "  <thead>\n",
       "    <tr style=\"text-align: right;\">\n",
       "      <th></th>\n",
       "      <th>0</th>\n",
       "      <th>1</th>\n",
       "      <th>2</th>\n",
       "      <th>3</th>\n",
       "      <th>4</th>\n",
       "      <th>5</th>\n",
       "      <th>6</th>\n",
       "      <th>7</th>\n",
       "      <th>8</th>\n",
       "      <th>9</th>\n",
       "      <th>10</th>\n",
       "      <th>11</th>\n",
       "      <th>12</th>\n",
       "      <th>13</th>\n",
       "    </tr>\n",
       "  </thead>\n",
       "  <tbody>\n",
       "    <tr>\n",
       "      <th>0</th>\n",
       "      <td>0.594860</td>\n",
       "      <td>0.382918</td>\n",
       "      <td>1.032598</td>\n",
       "      <td>-1.240112</td>\n",
       "      <td>0.804769</td>\n",
       "      <td>-1.554311</td>\n",
       "      <td>-1.035375</td>\n",
       "      <td>0.023929</td>\n",
       "      <td>1.0</td>\n",
       "      <td>0.0</td>\n",
       "      <td>0.0</td>\n",
       "      <td>1.0</td>\n",
       "      <td>0.0</td>\n",
       "      <td>0.0</td>\n",
       "    </tr>\n",
       "    <tr>\n",
       "      <th>1</th>\n",
       "      <td>-0.129893</td>\n",
       "      <td>-1.140424</td>\n",
       "      <td>-0.700967</td>\n",
       "      <td>1.180736</td>\n",
       "      <td>-0.906140</td>\n",
       "      <td>-1.554311</td>\n",
       "      <td>0.965833</td>\n",
       "      <td>-0.041600</td>\n",
       "      <td>0.0</td>\n",
       "      <td>1.0</td>\n",
       "      <td>0.0</td>\n",
       "      <td>0.0</td>\n",
       "      <td>1.0</td>\n",
       "      <td>0.0</td>\n",
       "    </tr>\n",
       "    <tr>\n",
       "      <th>2</th>\n",
       "      <td>0.087533</td>\n",
       "      <td>-0.093126</td>\n",
       "      <td>0.685885</td>\n",
       "      <td>-1.240112</td>\n",
       "      <td>0.804769</td>\n",
       "      <td>-1.554311</td>\n",
       "      <td>0.965833</td>\n",
       "      <td>0.006959</td>\n",
       "      <td>0.0</td>\n",
       "      <td>1.0</td>\n",
       "      <td>0.0</td>\n",
       "      <td>1.0</td>\n",
       "      <td>0.0</td>\n",
       "      <td>0.0</td>\n",
       "    </tr>\n",
       "    <tr>\n",
       "      <th>3</th>\n",
       "      <td>-0.668281</td>\n",
       "      <td>0.478127</td>\n",
       "      <td>-0.007541</td>\n",
       "      <td>0.775993</td>\n",
       "      <td>0.804769</td>\n",
       "      <td>0.643372</td>\n",
       "      <td>0.965833</td>\n",
       "      <td>-0.075902</td>\n",
       "      <td>1.0</td>\n",
       "      <td>0.0</td>\n",
       "      <td>0.0</td>\n",
       "      <td>0.0</td>\n",
       "      <td>1.0</td>\n",
       "      <td>0.0</td>\n",
       "    </tr>\n",
       "    <tr>\n",
       "      <th>4</th>\n",
       "      <td>-0.595805</td>\n",
       "      <td>1.620634</td>\n",
       "      <td>0.685885</td>\n",
       "      <td>-1.240112</td>\n",
       "      <td>-0.906140</td>\n",
       "      <td>0.643372</td>\n",
       "      <td>-1.035375</td>\n",
       "      <td>-0.088273</td>\n",
       "      <td>1.0</td>\n",
       "      <td>0.0</td>\n",
       "      <td>0.0</td>\n",
       "      <td>1.0</td>\n",
       "      <td>0.0</td>\n",
       "      <td>0.0</td>\n",
       "    </tr>\n",
       "  </tbody>\n",
       "</table>\n",
       "</div>"
      ],
      "text/plain": [
       "         0         1         2         3         4         5         6   \\\n",
       "0  0.594860  0.382918  1.032598 -1.240112  0.804769 -1.554311 -1.035375   \n",
       "1 -0.129893 -1.140424 -0.700967  1.180736 -0.906140 -1.554311  0.965833   \n",
       "2  0.087533 -0.093126  0.685885 -1.240112  0.804769 -1.554311  0.965833   \n",
       "3 -0.668281  0.478127 -0.007541  0.775993  0.804769  0.643372  0.965833   \n",
       "4 -0.595805  1.620634  0.685885 -1.240112 -0.906140  0.643372 -1.035375   \n",
       "\n",
       "         7    8    9    10   11   12   13  \n",
       "0  0.023929  1.0  0.0  0.0  1.0  0.0  0.0  \n",
       "1 -0.041600  0.0  1.0  0.0  0.0  1.0  0.0  \n",
       "2  0.006959  0.0  1.0  0.0  1.0  0.0  0.0  \n",
       "3 -0.075902  1.0  0.0  0.0  0.0  1.0  0.0  \n",
       "4 -0.088273  1.0  0.0  0.0  1.0  0.0  0.0  "
      ]
     },
     "execution_count": 31,
     "metadata": {},
     "output_type": "execute_result"
    }
   ],
   "source": [
    "# Transform testing data\n",
    "\n",
    "churn_testing_data_preprocessed = full_pipeline.transform(churn_test_data)\n",
    "pd.DataFrame(churn_testing_data_preprocessed).head()"
   ]
  },
  {
   "cell_type": "markdown",
   "metadata": {},
   "source": [
    "# Save The Transformation Pipeline"
   ]
  },
  {
   "cell_type": "code",
   "execution_count": 32,
   "metadata": {},
   "outputs": [
    {
     "data": {
      "text/plain": [
       "['full_pipeline.pkl']"
      ]
     },
     "execution_count": 32,
     "metadata": {},
     "output_type": "execute_result"
    }
   ],
   "source": [
    "import joblib\n",
    "\n",
    "# Store transformation pipeline\n",
    "joblib.dump(full_pipeline, \"full_pipeline.pkl\")"
   ]
  }
 ],
 "metadata": {
  "kernelspec": {
   "display_name": "Python 3.9.2 ('tensorflow')",
   "language": "python",
   "name": "python3"
  },
  "language_info": {
   "codemirror_mode": {
    "name": "ipython",
    "version": 3
   },
   "file_extension": ".py",
   "mimetype": "text/x-python",
   "name": "python",
   "nbconvert_exporter": "python",
   "pygments_lexer": "ipython3",
   "version": "3.9.2"
  },
  "orig_nbformat": 4,
  "vscode": {
   "interpreter": {
    "hash": "963a6b667ba7c19987caf557f58c76e79ee075e227b2c1ca5cceb7b5db9b7290"
   }
  }
 },
 "nbformat": 4,
 "nbformat_minor": 2
}
